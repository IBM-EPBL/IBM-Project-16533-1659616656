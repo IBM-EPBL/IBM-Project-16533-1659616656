{
  "cells": [
    {
      "cell_type": "markdown",
      "source": [
        "# **Build CNN model for classification of flowers**"
      ],
      "metadata": {
        "id": "Vcm1YRKxZgJs"
      }
    },
    {
      "cell_type": "markdown",
      "source": [
        "# **1. Download the Dataset [dataset](https://drive.google.com/file/d/1xkynpL15pt6KT3YSlDimu4A5iRU9qYck/view)**"
      ],
      "metadata": {
        "id": "wgiNiFFsbT4C"
      }
    },
    {
      "cell_type": "code",
      "execution_count": null,
      "metadata": {
        "id": "qbaVP3hC77Na",
        "colab": {
          "base_uri": "https://localhost:8080/"
        },
        "outputId": "e55ee824-efa6-44b3-daab-7810c38d6aa4"
      },
      "outputs": [
        {
          "output_type": "stream",
          "name": "stdout",
          "text": [
            "Mounted at /content/drive\n"
          ]
        }
      ],
      "source": [
        "from google.colab import drive\n",
        "drive.mount('/content/gokul')"
      ]
    },
    {
      "cell_type": "code",
      "source": [
        "!unzip \"/content/assignment3/flowers-dataset.zip\""
      ],
      "metadata": {
        "id": "wazh_RePg0Xb",
        "colab": {
          "base_uri": "https://localhost:8080/"
        },
        "outputId": "370d04a6-557d-4e4c-a431-cb35f5c3359a"
      },
      "execution_count": 1,
      "outputs": [
        {
          "output_type": "stream",
          "name": "stdout",
          "text": [
            "unzip:  cannot find or open /content/drive/MyDrive/Colab Notebooks/muthamizhan/Flowers-Dataset.zip, /content/drive/MyDrive/Colab Notebooks/muthamizhan/Flowers-Dataset.zip.zip or /content/drive/MyDrive/Colab Notebooks/muthamizhan/Flowers-Dataset.zip.ZIP.\n"
          ]
        }
      ]
    },
    {
      "cell_type": "markdown",
      "source": [
        " # **2. Image Augmentation**"
      ],
      "metadata": {
        "id": "sUxwnqH6cn18"
      }
    },
    {
      "cell_type": "code",
      "execution_count": null,
      "metadata": {
        "id": "DkUaOZGz903Z",
        "colab": {
          "base_uri": "https://localhost:8080/"
        },
        "outputId": "a0660a95-beff-46af-aa93-417c156942ad"
      },
      "outputs": [
        {
          "output_type": "stream",
          "name": "stdout",
          "text": [
            "Found 4317 images belonging to 5 classes.\n"
          ]
        }
      ],
      "source": [
        "from tensorflow.keras.preprocessing.image import ImageDataGenerator\n",
        "\n",
        "train_datagen = ImageDataGenerator(rescale = 1./255, horizontal_flip = True, vertical_flip = True, zoom_range = 0.2)\n",
        "\n",
        "x_train = train_datagen.flow_from_directory(r\"/content/flowers\", target_size = (64,64) , class_mode = \"categorical\", batch_size = 100)"
      ]
    },
    {
      "cell_type": "code",
      "execution_count": null,
      "metadata": {
        "id": "8X09-7K290xw"
      },
      "outputs": [],
      "source": [
        "#test_datagen = ImageDataGenerator(rescale = 1./255)"
      ]
    },
    {
      "cell_type": "code",
      "execution_count": null,
      "metadata": {
        "id": "HzunZLPF90sJ"
      },
      "outputs": [],
      "source": [
        "#x_test = test_datagen.flow_from_directory(r\"/content/flowers/flower_photos/test\", target_size = (64,64), class_mode = \"categorical\", batch_size = 100)\n",
        "#valid = test_datagen.flow_from_directory(r\"/content/flowers/flower_photos/validation\", target_size= (64,64), class_mode = \"categorical\", batch_size = 100 )\n"
      ]
    },
    {
      "cell_type": "markdown",
      "source": [
        "# **3. Model Building and also Split dataset into training and testing sets**"
      ],
      "metadata": {
        "id": "eh050PAqdAUY"
      }
    },
    {
      "cell_type": "code",
      "execution_count": null,
      "metadata": {
        "id": "gl-dao5p90mv"
      },
      "outputs": [],
      "source": [
        "from tensorflow.keras.models import Sequential\n",
        "from tensorflow.keras.layers import Convolution2D,MaxPooling2D,Flatten,Dense\n",
        "\n",
        "model = Sequential()"
      ]
    },
    {
      "cell_type": "markdown",
      "source": [
        "# **4. Add the layers (Convolution, MaxPooling, Flatten, Dense-(HiddenLayers), Output)**"
      ],
      "metadata": {
        "id": "nZjU7xYkdedl"
      }
    },
    {
      "cell_type": "code",
      "source": [
        "model.add(Convolution2D(32, (3,3), activation = \"relu\", input_shape = (64,64,3) ))\n",
        "model.add(MaxPooling2D(pool_size = (2,2)))\n",
        "model.add(Flatten())\n",
        "model.add(Dense(300, activation = \"relu\"))\n",
        "model.add(Dense(150, activation = \"relu\")) #multiple dense layers\n",
        "model.add(Dense(5, activation = \"softmax\")) #output layer"
      ],
      "metadata": {
        "id": "GoXdNzx8e1jk"
      },
      "execution_count": null,
      "outputs": []
    },
    {
      "cell_type": "markdown",
      "source": [
        "# **5. Compile The Model**"
      ],
      "metadata": {
        "id": "WQn8OwBhdmYs"
      }
    },
    {
      "cell_type": "code",
      "execution_count": null,
      "metadata": {
        "id": "ZPIb6RQY-pXF",
        "colab": {
          "base_uri": "https://localhost:8080/"
        },
        "outputId": "892873e2-641f-44b9-e48c-c1f68fd52446"
      },
      "outputs": [
        {
          "output_type": "execute_result",
          "data": {
            "text/plain": [
              "44"
            ]
          },
          "metadata": {},
          "execution_count": 9
        }
      ],
      "source": [
        "model.compile(loss = \"categorical_crossentropy\", metrics = [\"accuracy\"], optimizer = \"adam\")\n",
        "len(x_train)"
      ]
    },
    {
      "cell_type": "code",
      "execution_count": null,
      "metadata": {
        "colab": {
          "base_uri": "https://localhost:8080/"
        },
        "id": "U5HwZBMH-pQj",
        "outputId": "191cc4bc-94cf-4061-91a6-5d71fb6347fa"
      },
      "outputs": [
        {
          "output_type": "stream",
          "name": "stdout",
          "text": [
            "Epoch 1/15\n",
            "44/44 [==============================] - 29s 624ms/step - loss: 1.9805 - accuracy: 0.3438\n",
            "Epoch 2/15\n",
            "44/44 [==============================] - 28s 629ms/step - loss: 1.1597 - accuracy: 0.5166\n",
            "Epoch 3/15\n",
            "44/44 [==============================] - 28s 624ms/step - loss: 1.0943 - accuracy: 0.5490\n",
            "Epoch 4/15\n",
            "44/44 [==============================] - 28s 626ms/step - loss: 1.0351 - accuracy: 0.5773\n",
            "Epoch 5/15\n",
            "44/44 [==============================] - 28s 628ms/step - loss: 1.0011 - accuracy: 0.6060\n",
            "Epoch 6/15\n",
            "44/44 [==============================] - 28s 621ms/step - loss: 0.9402 - accuracy: 0.6312\n",
            "Epoch 7/15\n",
            "44/44 [==============================] - 28s 626ms/step - loss: 0.9231 - accuracy: 0.6430\n",
            "Epoch 8/15\n",
            "44/44 [==============================] - 28s 623ms/step - loss: 0.8855 - accuracy: 0.6516\n",
            "Epoch 9/15\n",
            "44/44 [==============================] - 27s 619ms/step - loss: 0.8676 - accuracy: 0.6616\n",
            "Epoch 10/15\n",
            "44/44 [==============================] - 28s 621ms/step - loss: 0.8447 - accuracy: 0.6683\n",
            "Epoch 11/15\n",
            "44/44 [==============================] - 27s 617ms/step - loss: 0.8571 - accuracy: 0.6650\n",
            "Epoch 12/15\n",
            "44/44 [==============================] - 27s 619ms/step - loss: 0.8026 - accuracy: 0.6820\n",
            "Epoch 13/15\n",
            "44/44 [==============================] - 28s 625ms/step - loss: 0.7727 - accuracy: 0.7021\n",
            "Epoch 14/15\n",
            "44/44 [==============================] - 27s 619ms/step - loss: 0.7695 - accuracy: 0.7042\n",
            "Epoch 15/15\n",
            "44/44 [==============================] - 28s 623ms/step - loss: 0.7512 - accuracy: 0.7139\n"
          ]
        },
        {
          "output_type": "execute_result",
          "data": {
            "text/plain": [
              "<keras.callbacks.History at 0x7f1855b43a90>"
            ]
          },
          "metadata": {},
          "execution_count": 10
        }
      ],
      "source": [
        "#model.fit(x_train, epochs = 15, validation_data = x_test, steps_per_epoch = len(x_train), validation_steps = len(x_test))\n",
        "\n",
        "model.fit(x_train, epochs = 15, steps_per_epoch = len(x_train))"
      ]
    },
    {
      "cell_type": "markdown",
      "source": [
        "# **6. Fit The Model**"
      ],
      "metadata": {
        "id": "f51FKizdee_s"
      }
    },
    {
      "cell_type": "code",
      "source": [
        "model.summary()"
      ],
      "metadata": {
        "colab": {
          "base_uri": "https://localhost:8080/"
        },
        "id": "cSRCELszXvv9",
        "outputId": "bcf30f50-b28f-4bda-c5a3-ac66036cdfed"
      },
      "execution_count": null,
      "outputs": [
        {
          "output_type": "stream",
          "name": "stdout",
          "text": [
            "Model: \"sequential\"\n",
            "_________________________________________________________________\n",
            " Layer (type)                Output Shape              Param #   \n",
            "=================================================================\n",
            " conv2d (Conv2D)             (None, 62, 62, 32)        896       \n",
            "                                                                 \n",
            " max_pooling2d (MaxPooling2D  (None, 31, 31, 32)       0         \n",
            " )                                                               \n",
            "                                                                 \n",
            " flatten (Flatten)           (None, 30752)             0         \n",
            "                                                                 \n",
            " dense (Dense)               (None, 300)               9225900   \n",
            "                                                                 \n",
            " dense_1 (Dense)             (None, 150)               45150     \n",
            "                                                                 \n",
            " dense_2 (Dense)             (None, 5)                 755       \n",
            "                                                                 \n",
            "=================================================================\n",
            "Total params: 9,272,701\n",
            "Trainable params: 9,272,701\n",
            "Non-trainable params: 0\n",
            "_________________________________________________________________\n"
          ]
        }
      ]
    },
    {
      "cell_type": "markdown",
      "source": [
        "# **7. Save The Model**"
      ],
      "metadata": {
        "id": "f1125mtterRZ"
      }
    },
    {
      "cell_type": "code",
      "execution_count": null,
      "metadata": {
        "id": "QZxA6_wK-pNB"
      },
      "outputs": [],
      "source": [
        "model.save(\"flowers.h5\")"
      ]
    },
    {
      "cell_type": "markdown",
      "source": [
        "# **8. Test The Model**"
      ],
      "metadata": {
        "id": "_7baTL1GetSC"
      }
    },
    {
      "cell_type": "code",
      "source": [
        "from tensorflow.keras.models import load_model\n",
        "from tensorflow.keras.preprocessing import image\n",
        "import numpy as np\n",
        "\n",
        "model = load_model(\"/content/flowers.h5\")\n",
        "img = image.load_img(\"/content/flower.jpeg\", target_size = (64,64))\n",
        "x = image.img_to_array(img)\n",
        "x = np.expand_dims(x,axis = 0)\n",
        "pred = model.predict(x)\n",
        "\n",
        "labels = ['daisy','dandelion','roses','sunflowers','tulips']\n",
        "print(\"Input Image is\\n\")\n",
        "img"
      ],
      "metadata": {
        "colab": {
          "base_uri": "https://localhost:8080/",
          "height": 116
        },
        "id": "oSeosXC9jaeW",
        "outputId": "7e18b5b0-f66d-46bd-fce1-e57cababe45b"
      },
      "execution_count": null,
      "outputs": [
        {
          "output_type": "stream",
          "name": "stdout",
          "text": [
            "Input Image is\n",
            "\n"
          ]
        },
        {
          "output_type": "execute_result",
          "data": {
            "text/plain": [
              "<PIL.Image.Image image mode=RGB size=64x64 at 0x7F18522A6B10>"
            ],
            "image/png": "[encoded data removed]"
          },
          "metadata": {},
          "execution_count": 29
        }
      ]
    },
    {
      "cell_type": "code",
      "source": [
        "print(\"Classification of Flower is:\",labels[np.argmax(pred)])"
      ],
      "metadata": {
        "id": "l3ws7z8qkfbO",
        "outputId": "b7809b7c-a429-4f7d-9252-be762df85cd0",
        "colab": {
          "base_uri": "https://localhost:8080/"
        }
      },
      "execution_count": null,
      "outputs": [
        {
          "output_type": "stream",
          "name": "stdout",
          "text": [
            "Classification of Flower is: sunflowers\n"
          ]
        }
      ]
    },
    {
      "cell_type": "code",
      "source": [],
      "metadata": {
        "id": "fFv5_m9hmuwF"
      },
      "execution_count": null,
      "outputs": []
    }
  ],
  "metadata": {
    "colab": {
      "provenance": []
    },
    "kernelspec": {
      "display_name": "Python 3",
      "name": "python3"
    },
    "language_info": {
      "name": "python"
    },
    "accelerator": "GPU"
  },
  "nbformat": 4,
  "nbformat_minor": 0
}