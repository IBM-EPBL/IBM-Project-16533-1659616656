{
 "cells": [
  {
   "cell_type": "code",
   "execution_count": 1,
   "metadata": {},
   "outputs": [],
   "source": [
    "import keras\n",
    "from keras.preprocessing.image import ImageDataGenerator"
   ]
  },
  {
   "cell_type": "code",
   "execution_count": 2,
   "metadata": {},
   "outputs": [],
   "source": [
    "#Define the parameters/arguments for ImageDataGenerator class\n",
    "train_datagen=ImageDataGenerator(rescale=1./255,shear_range=0.2,rotation_range=180,zoom_range=0.2,horizontal_flip=True)\n",
    "\n",
    "test_datagen=ImageDataGenerator(rescale=1./255)"
   ]
  },
  {
   "cell_type": "code",
   "execution_count": 3,
   "metadata": {},
   "outputs": [
    {
     "name": "stdout",
     "output_type": "stream",
     "text": [
      "Found 436 images belonging to 2 classes.\n"
     ]
    }
   ],
   "source": [
    "#Applying ImageDataGenerator functionality to trainset\n",
    "x_train=train_datagen.flow_from_directory(\"d:/Downloads/archive (1)/Dataset/Dataset/train_set\",target_size=(128,128),\n",
    "                                          batch_size=32,class_mode='binary')"
   ]
  },
  {
   "cell_type": "code",
   "execution_count": 4,
   "metadata": {},
   "outputs": [
    {
     "name": "stdout",
     "output_type": "stream",
     "text": [
      "Found 121 images belonging to 2 classes.\n"
     ]
    }
   ],
   "source": [
    "#Applying ImageDataGenerator functionality to testset\n",
    "x_test=test_datagen.flow_from_directory(\"d:/Downloads/archive (1)/Dataset/Dataset/test_set\",target_size=(128,128),\n",
    "                                        batch_size=32,class_mode='binary')"
   ]
  },
  {
   "cell_type": "code",
   "execution_count": 5,
   "metadata": {},
   "outputs": [],
   "source": [
    "#import model building libraries\n",
    "\n",
    "#To define Linear initialisation import Sequential\n",
    "from keras.models import Sequential\n",
    "#To add layers import Dense\n",
    "from keras.layers import Dense\n",
    "#To create Convolution kernel import Convolution2D\n",
    "from keras.layers import Convolution2D\n",
    "#import Maxpooling layer\n",
    "from keras.layers import MaxPooling2D\n",
    "#import flatten layer\n",
    "from keras.layers import Flatten\n",
    "import warnings\n",
    "warnings.filterwarnings('ignore')"
   ]
  },
  {
   "cell_type": "code",
   "execution_count": 6,
   "metadata": {},
   "outputs": [],
   "source": [
    "#initializing the model\n",
    "model=Sequential()"
   ]
  },
  {
   "cell_type": "code",
   "execution_count": 7,
   "metadata": {},
   "outputs": [],
   "source": [
    "#add convolutional layer\n",
    "model.add(Convolution2D(32,(3,3),input_shape=(128,128,3),activation='relu'))\n",
    "#add maxpooling layer\n",
    "model.add(MaxPooling2D(pool_size=(2,2)))\n",
    "#add flatten layer \n",
    "model.add(Flatten())"
   ]
  },
  {
   "cell_type": "code",
   "execution_count": 8,
   "metadata": {},
   "outputs": [],
   "source": [
    "#add hidden layer\n",
    "model.add(Dense(150,activation='relu'))\n",
    "#add output layer\n",
    "model.add(Dense(1,activation='sigmoid'))"
   ]
  },
  {
   "cell_type": "code",
   "execution_count": 9,
   "metadata": {},
   "outputs": [],
   "source": [
    "#configure the learning process\n",
    "model.compile(loss='binary_crossentropy',optimizer=\"adam\",metrics=[\"accuracy\"])"
   ]
  },
  {
   "cell_type": "code",
   "execution_count": 10,
   "metadata": {},
   "outputs": [],
   "source": [
    "from tensorflow.keras.models import Model"
   ]
  },
  {
   "cell_type": "code",
   "execution_count": 11,
   "metadata": {},
   "outputs": [
    {
     "name": "stdout",
     "output_type": "stream",
     "text": [
      "Epoch 1/10\n",
      "14/14 [==============================] - 40s 3s/step - loss: 2.9380 - accuracy: 0.6353 - val_loss: 0.3520 - val_accuracy: 0.9008\n",
      "Epoch 2/10\n",
      "14/14 [==============================] - 39s 3s/step - loss: 0.4947 - accuracy: 0.8463 - val_loss: 0.1440 - val_accuracy: 0.9339\n",
      "Epoch 3/10\n",
      "14/14 [==============================] - 40s 3s/step - loss: 0.2276 - accuracy: 0.9037 - val_loss: 0.1092 - val_accuracy: 0.9669\n",
      "Epoch 4/10\n",
      "14/14 [==============================] - 69s 5s/step - loss: 0.1863 - accuracy: 0.9151 - val_loss: 0.1162 - val_accuracy: 0.9752\n",
      "Epoch 5/10\n",
      "14/14 [==============================] - 38s 3s/step - loss: 0.1714 - accuracy: 0.9243 - val_loss: 0.0859 - val_accuracy: 0.9835\n",
      "Epoch 6/10\n",
      "14/14 [==============================] - 62s 5s/step - loss: 0.1664 - accuracy: 0.9266 - val_loss: 0.0875 - val_accuracy: 0.9669\n",
      "Epoch 7/10\n",
      "14/14 [==============================] - 58s 4s/step - loss: 0.1837 - accuracy: 0.9106 - val_loss: 0.0844 - val_accuracy: 0.9752\n",
      "Epoch 8/10\n",
      "14/14 [==============================] - 37s 3s/step - loss: 0.1625 - accuracy: 0.9106 - val_loss: 0.1147 - val_accuracy: 0.9669\n",
      "Epoch 9/10\n",
      "14/14 [==============================] - 73s 6s/step - loss: 0.1733 - accuracy: 0.9106 - val_loss: 0.0685 - val_accuracy: 0.9835\n",
      "Epoch 10/10\n",
      "14/14 [==============================] - 37s 3s/step - loss: 0.1524 - accuracy: 0.9427 - val_loss: 0.0533 - val_accuracy: 0.9752\n"
     ]
    },
    {
     "data": {
      "text/plain": [
       "<keras.callbacks.History at 0x2b2530967c0>"
      ]
     },
     "execution_count": 11,
     "metadata": {},
     "output_type": "execute_result"
    }
   ],
   "source": [
    "#Training the model\n",
    "model.fit_generator(x_train,steps_per_epoch=14,epochs=10,validation_data=x_test,validation_steps=4)"
   ]
  },
  {
   "cell_type": "code",
   "execution_count": 14,
   "metadata": {},
   "outputs": [],
   "source": [
    "model.save(\"forest1.h5\")"
   ]
  },
  {
   "cell_type": "code",
   "execution_count": 15,
   "metadata": {},
   "outputs": [],
   "source": [
    "#import load_model from keras.model\n",
    "from keras.models import load_model\n",
    "#import image class from keras\n",
    "from tensorflow.keras.preprocessing import image\n",
    "#import numpy\n",
    "import numpy as np\n",
    "#import cv2\n",
    "import cv2"
   ]
  },
  {
   "cell_type": "code",
   "execution_count": 16,
   "metadata": {},
   "outputs": [],
   "source": [
    "#load the saved model\n",
    "model = load_model(\"forest1.h5\")"
   ]
  },
  {
   "cell_type": "code",
   "execution_count": 17,
   "metadata": {},
   "outputs": [],
   "source": [
    "img=image.load_img(\"d:/Downloads/archive (1)/Dataset/Dataset/test_set/with fire/180802_CarrFire_010_large_700x467.jpg\")\n",
    "x=image.img_to_array(img)\n",
    "res = cv2.resize(x, dsize=(128, 128), interpolation=cv2.INTER_CUBIC)\n",
    "#expand the image shape\n",
    "x=np.expand_dims(res,axis=0)"
   ]
  },
  {
   "cell_type": "code",
   "execution_count": 18,
   "metadata": {},
   "outputs": [
    {
     "name": "stdout",
     "output_type": "stream",
     "text": [
      "1/1 [==============================] - 8s 8s/step\n"
     ]
    }
   ],
   "source": [
    "pred=model.predict(x)"
   ]
  },
  {
   "cell_type": "code",
   "execution_count": 19,
   "metadata": {},
   "outputs": [
    {
     "data": {
      "text/plain": [
       "array([[1.]], dtype=float32)"
      ]
     },
     "execution_count": 19,
     "metadata": {},
     "output_type": "execute_result"
    }
   ],
   "source": [
    "pred"
   ]
  },
  {
   "cell_type": "code",
   "execution_count": 20,
   "metadata": {},
   "outputs": [
    {
     "name": "stdout",
     "output_type": "stream",
     "text": [
      "Requirement already satisfied: twilio in c:\\users\\lenovo\\anaconda3\\envs\\tf new\\lib\\site-packages (7.15.2)\n",
      "Requirement already satisfied: pytz in c:\\users\\lenovo\\anaconda3\\envs\\tf new\\lib\\site-packages (from twilio) (2022.6)\n",
      "Requirement already satisfied: requests>=2.0.0 in c:\\users\\lenovo\\anaconda3\\envs\\tf new\\lib\\site-packages (from twilio) (2.28.1)\n",
      "Requirement already satisfied: PyJWT<3.0.0,>=2.0.0 in c:\\users\\lenovo\\anaconda3\\envs\\tf new\\lib\\site-packages (from twilio) (2.4.0)\n",
      "Requirement already satisfied: certifi>=2017.4.17 in c:\\users\\lenovo\\anaconda3\\envs\\tf new\\lib\\site-packages (from requests>=2.0.0->twilio) (2022.9.24)\n",
      "Requirement already satisfied: idna<4,>=2.5 in c:\\users\\lenovo\\anaconda3\\envs\\tf new\\lib\\site-packages (from requests>=2.0.0->twilio) (3.4)\n",
      "Requirement already satisfied: charset-normalizer<3,>=2 in c:\\users\\lenovo\\anaconda3\\envs\\tf new\\lib\\site-packages (from requests>=2.0.0->twilio) (2.0.4)\n",
      "Requirement already satisfied: urllib3<1.27,>=1.21.1 in c:\\users\\lenovo\\anaconda3\\envs\\tf new\\lib\\site-packages (from requests>=2.0.0->twilio) (1.26.12)\n",
      "Note: you may need to restart the kernel to use updated packages.\n"
     ]
    }
   ],
   "source": [
    "pip install twilio"
   ]
  },
  {
   "cell_type": "code",
   "execution_count": 21,
   "metadata": {},
   "outputs": [
    {
     "name": "stdout",
     "output_type": "stream",
     "text": [
      "Requirement already satisfied: playsound in c:\\users\\lenovo\\anaconda3\\envs\\tf new\\lib\\site-packages (1.3.0)\n",
      "Note: you may need to restart the kernel to use updated packages.\n"
     ]
    }
   ],
   "source": [
    "pip install playsound"
   ]
  },
  {
   "cell_type": "code",
   "execution_count": 22,
   "metadata": {},
   "outputs": [],
   "source": [
    "#import opencv library\n",
    "import cv2\n",
    "#import numpy\n",
    "import numpy as np\n",
    "#import image function from keras\n",
    "from tensorflow.keras.preprocessing import image\n",
    "#import load_model from keras\n",
    "from keras.models import load_model\n",
    "#import Client from twilio API\n",
    "from twilio.rest import Client\n",
    "#import playsound package\n",
    "from playsound import playsound"
   ]
  },
  {
   "cell_type": "code",
   "execution_count": 23,
   "metadata": {},
   "outputs": [],
   "source": [
    "#load the saved model\n",
    "model=load_model('forest1.h5')\n",
    "#define video\n",
    "video=cv2.VideoCapture(\"d:/Downloads/FORESTFIRE.mp4\")\n",
    "#define the features\n",
    "name=['forest','with fire']"
   ]
  },
  {
   "cell_type": "code",
   "execution_count": null,
   "metadata": {},
   "outputs": [
    {
     "name": "stdout",
     "output_type": "stream",
     "text": [
      "1/1 [==============================] - 12s 12s/step\n",
      "[[1.]]\n",
      "SM16059cee1c0bf17bc95516e1199c7a61\n",
      "Fire Detected\n",
      "SMS sent!\n",
      "1/1 [==============================] - 1s 939ms/step\n",
      "[[1.]]\n",
      "SM41b1acf35d1092ebe45afcf15cff6025\n",
      "Fire Detected\n",
      "SMS sent!\n",
      "1/1 [==============================] - 1s 586ms/step\n",
      "[[1.]]\n",
      "SM896f7e4c8534e5b1e244e0c768347b45\n",
      "Fire Detected\n",
      "SMS sent!\n",
      "1/1 [==============================] - 0s 281ms/step\n",
      "[[1.]]\n",
      "SMa9e4afc3cee746568b34e34bbcf955db\n",
      "Fire Detected\n",
      "SMS sent!\n",
      "1/1 [==============================] - 0s 240ms/step\n",
      "[[1.]]\n",
      "SM726a269ad1c78a554a8e2616181f8a6b\n",
      "Fire Detected\n",
      "SMS sent!\n",
      "1/1 [==============================] - 0s 150ms/step\n",
      "[[1.]]\n",
      "SM7440fbf7b78c8ac64e9e12ddaf75e994\n",
      "Fire Detected\n",
      "SMS sent!\n",
      "1/1 [==============================] - 0s 130ms/step\n",
      "[[1.]]\n",
      "SMf1ff255c72b9c853def16d8fd01ee6d2\n",
      "Fire Detected\n",
      "SMS sent!\n",
      "1/1 [==============================] - 0s 60ms/step\n",
      "[[1.]]\n",
      "SM41088d225633408c97cc51d8f0a45bf4\n",
      "Fire Detected\n",
      "SMS sent!\n",
      "1/1 [==============================] - 0s 132ms/step\n",
      "[[1.]]\n",
      "SM07c0dd45ae499ee1edbf16938b98ab12\n",
      "Fire Detected\n",
      "SMS sent!\n",
      "1/1 [==============================] - 0s 64ms/step\n",
      "[[1.]]\n",
      "SMa45b1f7bd3e6c6134bfb71906cc7f166\n",
      "Fire Detected\n",
      "SMS sent!\n",
      "1/1 [==============================] - 0s 59ms/step\n",
      "[[1.]]\n",
      "SMa90fdf0e27950c1455f57e80673bb08a\n",
      "Fire Detected\n",
      "SMS sent!\n",
      "1/1 [==============================] - 0s 119ms/step\n",
      "[[1.]]\n",
      "SM4d0612a7787ee5f64d77bb7a3734043e\n",
      "Fire Detected\n",
      "SMS sent!\n",
      "1/1 [==============================] - 0s 123ms/step\n",
      "[[1.]]\n",
      "SM40cc601804a26304b9dcb48d574e2089\n",
      "Fire Detected\n",
      "SMS sent!\n",
      "1/1 [==============================] - 0s 51ms/step\n",
      "[[1.]]\n",
      "SM6609da6eb906c4a3e73b873f7019bba2\n",
      "Fire Detected\n",
      "SMS sent!\n",
      "1/1 [==============================] - 0s 84ms/step\n",
      "[[1.]]\n",
      "SMac408ef75fe74eab8dee1908b1080c76\n",
      "Fire Detected\n",
      "SMS sent!\n",
      "1/1 [==============================] - 0s 60ms/step\n",
      "[[1.]]\n",
      "SMe9ef1bb68286600623b61e827c8d1fd3\n",
      "Fire Detected\n",
      "SMS sent!\n",
      "1/1 [==============================] - 0s 47ms/step\n",
      "[[1.]]\n",
      "SM0847806ebd137951ec78551299287389\n",
      "Fire Detected\n",
      "SMS sent!\n",
      "1/1 [==============================] - 0s 87ms/step\n",
      "[[1.]]\n",
      "SM68590b9351cf7d2dbdc01b004f2ce17f\n",
      "Fire Detected\n",
      "SMS sent!\n",
      "1/1 [==============================] - 0s 136ms/step\n",
      "[[1.]]\n",
      "SMca9e44f1d59828b1da7646d88badf1ab\n",
      "Fire Detected\n",
      "SMS sent!\n",
      "1/1 [==============================] - 0s 65ms/step\n",
      "[[1.]]\n",
      "SMaa7ef9edd04582fd2bb914ad01c69e5a\n",
      "Fire Detected\n",
      "SMS sent!\n",
      "1/1 [==============================] - 0s 105ms/step\n",
      "[[1.]]\n",
      "SMac0dcddfd380ed66bc927dc84a6ae512\n",
      "Fire Detected\n",
      "SMS sent!\n",
      "1/1 [==============================] - 0s 45ms/step\n",
      "[[1.]]\n",
      "SM4adcd92ab1b70e91fcf96d429aa7c2e2\n",
      "Fire Detected\n",
      "SMS sent!\n",
      "1/1 [==============================] - 0s 48ms/step\n",
      "[[1.]]\n",
      "SM5a9f131c99059c0e84555afa1fe8d9c3\n",
      "Fire Detected\n",
      "SMS sent!\n",
      "1/1 [==============================] - 0s 73ms/step\n",
      "[[1.]]\n",
      "SM2bd7bb322c85b84fa440ae2eb1a37bd7\n",
      "Fire Detected\n",
      "SMS sent!\n",
      "1/1 [==============================] - 0s 89ms/step\n",
      "[[1.]]\n",
      "SM8bb3b491937cbb7d64dde0dfef3708c9\n",
      "Fire Detected\n",
      "SMS sent!\n",
      "1/1 [==============================] - 0s 62ms/step\n",
      "[[1.]]\n",
      "SM104733cdf080d639bc5424722fc51955\n",
      "Fire Detected\n",
      "SMS sent!\n",
      "1/1 [==============================] - 0s 46ms/step\n",
      "[[1.]]\n",
      "SM985c17e68670e24433059c4cf25cb3b5\n",
      "Fire Detected\n",
      "SMS sent!\n",
      "1/1 [==============================] - 0s 56ms/step\n",
      "[[1.]]\n",
      "SMf29719abde311c87268a37e4f9ca9845\n",
      "Fire Detected\n",
      "SMS sent!\n",
      "1/1 [==============================] - 0s 60ms/step\n",
      "[[1.]]\n",
      "SM4c190086b2b9cbdaccf9aa56779f6456\n",
      "Fire Detected\n",
      "SMS sent!\n",
      "1/1 [==============================] - 0s 72ms/step\n",
      "[[1.]]\n",
      "SM25307483e1a4db609fd566d083c7b8ee\n",
      "Fire Detected\n",
      "SMS sent!\n",
      "1/1 [==============================] - 0s 187ms/step\n",
      "[[1.]]\n",
      "SM3c4f8f638e493cc30b1f9f24d3bcf1ff\n",
      "Fire Detected\n",
      "SMS sent!\n",
      "1/1 [==============================] - 0s 67ms/step\n",
      "[[1.]]\n",
      "SM9da7921cc20557e9d4c1652432456d29\n",
      "Fire Detected\n",
      "SMS sent!\n",
      "1/1 [==============================] - 0s 68ms/step\n",
      "[[1.]]\n",
      "SM0d0edd0ac4b5b8a8db561840e0a99bda\n",
      "Fire Detected\n",
      "SMS sent!\n",
      "1/1 [==============================] - 0s 82ms/step\n",
      "[[1.]]\n",
      "SM56f2462b846365f5ad347f66b11e6b29\n",
      "Fire Detected\n",
      "SMS sent!\n",
      "1/1 [==============================] - 0s 471ms/step\n",
      "[[1.]]\n",
      "SMe9d5d53f79ddb27c6fd97c5023788e0c\n",
      "Fire Detected\n",
      "SMS sent!\n",
      "1/1 [==============================] - 0s 59ms/step\n",
      "[[1.]]\n",
      "SM438a3ec2124d413aa7a4e7b0b042fcf6\n",
      "Fire Detected\n",
      "SMS sent!\n",
      "1/1 [==============================] - 0s 100ms/step\n",
      "[[1.]]\n",
      "SM07afa91f47d2778f73cbf82c059c0b9c\n",
      "Fire Detected\n",
      "SMS sent!\n",
      "1/1 [==============================] - 0s 58ms/step\n",
      "[[1.]]\n",
      "SMd4f8463156ee8dad48f90783cd57aa68\n",
      "Fire Detected\n",
      "SMS sent!\n",
      "1/1 [==============================] - 0s 67ms/step\n",
      "[[1.]]\n",
      "SM9801abb7e3fe5b97c992ad5164a454bc\n",
      "Fire Detected\n",
      "SMS sent!\n",
      "1/1 [==============================] - 0s 72ms/step\n",
      "[[1.]]\n",
      "SM9efc2cca98f1ddf5a94dec671926551b\n",
      "Fire Detected\n",
      "SMS sent!\n",
      "1/1 [==============================] - 0s 66ms/step\n",
      "[[1.]]\n",
      "SM65f6d42f02738df9dc045301e1d8b749\n",
      "Fire Detected\n",
      "SMS sent!\n",
      "1/1 [==============================] - 0s 84ms/step\n",
      "[[1.]]\n",
      "SM735ca4b803bc7e2262fd7e1f6d9b16fe\n",
      "Fire Detected\n",
      "SMS sent!\n",
      "1/1 [==============================] - 0s 149ms/step\n",
      "[[1.]]\n",
      "SM7d96cd90ea15797ddabe8e5684292122\n",
      "Fire Detected\n",
      "SMS sent!\n",
      "1/1 [==============================] - 0s 63ms/step\n",
      "[[1.]]\n",
      "SM438402269bb82c3b50ee0382fc7dcd1c\n",
      "Fire Detected\n",
      "SMS sent!\n",
      "1/1 [==============================] - 0s 76ms/step\n",
      "[[1.]]\n",
      "SMb420205077af70e6fefa23975a4128bc\n",
      "Fire Detected\n",
      "SMS sent!\n",
      "1/1 [==============================] - 0s 65ms/step\n",
      "[[1.]]\n",
      "SM369418805e6676f76b62250eff378e11\n",
      "Fire Detected\n",
      "SMS sent!\n",
      "1/1 [==============================] - 0s 67ms/step\n",
      "[[1.]]\n",
      "SM951c395927d0f220dc71b57243af8836\n",
      "Fire Detected\n",
      "SMS sent!\n",
      "1/1 [==============================] - 0s 64ms/step\n",
      "[[1.]]\n",
      "SMf3688f60a4b680d149aa28ab6fb50051\n",
      "Fire Detected\n",
      "SMS sent!\n",
      "1/1 [==============================] - 1s 824ms/step\n",
      "[[1.]]\n",
      "SMd4b8d8b6e255ab91c3651eddf057e1b1\n",
      "Fire Detected\n",
      "SMS sent!\n"
     ]
    }
   ],
   "source": [
    "#load the saved model\n",
    "model=load_model('forest1.h5')\n",
    "#define video\n",
    "video=cv2.VideoCapture(\"d:/Downloads/FORESTFIRE.mp4\")\n",
    "#define the features\n",
    "name=['forest','with fire']\n",
    "while(1):\n",
    "  success,frame=video.read()\n",
    "  cv2.imwrite(\"image.jpg\",frame) \n",
    "  img=image.load_img(\"image.jpg\",target_size=(64,64))\n",
    "  x=image.img_to_array(img)\n",
    "  res = cv2.resize(x, dsize=(128, 128), interpolation=cv2.INTER_CUBIC)\n",
    "  x=np.expand_dims(res,axis=0)\n",
    "  pred=model.predict(x)\n",
    "  p=pred[0]\n",
    "  print(pred)\n",
    "  #cv2.putText(frame,\"predicted class = \"+str(name[p]),(100,100),cv2.FONT_HERSHEY_SIMPLEX,1,(0,0,0))\n",
    "  if pred[0]==1:\n",
    "    #twilio account ssid\n",
    "    account_sid='ACd23df6a1712d688dbdae211ebe705364'\n",
    "    #twilio account authentication token\n",
    "    auth_token ='afcfaa9941cb5677d6d9a2340570366a'\n",
    "    client=Client(account_sid,auth_token)\n",
    "\n",
    "    message=client.messages \\\n",
    "    .create(\n",
    "        body='Forest Fire is detected,stay alert',\n",
    "        #use twilio free number\n",
    "        from_='+19016574753',\n",
    "        #to number\n",
    "        to='+919344375932')\n",
    "    print(message.sid)\n",
    "    print('Fire Detected')\n",
    "    print('SMS sent!')\n",
    "    playsound(\"D:/Downloads/72831__audible-edge__tornado-siren-in-streamwood-il.mp3\")\n",
    "  else:\n",
    "    print('No Danger')\n",
    "    #break\n",
    "  cv2.imshow(\"image\",frame)\n",
    "  if cv2.waitKey(1) & 0xFF == ord('q'):\n",
    "     break\n",
    "video.release()\n",
    "cv2.destroyAllWindows()\n"
   ]
  },
  {
   "cell_type": "code",
   "execution_count": null,
   "metadata": {},
   "outputs": [],
   "source": []
  }
 ],
 "metadata": {
  "kernelspec": {
   "display_name": "Python 3",
   "language": "python",
   "name": "python3"
  },
  "language_info": {
   "codemirror_mode": {
    "name": "ipython",
    "version": 3
   },
   "file_extension": ".py",
   "mimetype": "text/x-python",
   "name": "python",
   "nbconvert_exporter": "python",
   "pygments_lexer": "ipython3",
   "version": "3.8.5"
  }
 },
 "nbformat": 4,
 "nbformat_minor": 4
}
